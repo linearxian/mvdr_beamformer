{
 "cells": [
  {
   "cell_type": "markdown",
   "metadata": {},
   "source": [
    "Set parameters"
   ]
  },
  {
   "cell_type": "code",
   "execution_count": null,
   "metadata": {},
   "outputs": [],
   "source": [
    "from Beamformer_MVDR import beamformer_MVDR\n",
    "import utils\n",
    "from acoular import MicGeom\n",
    "import numpy as np\n",
    "from scipy.io import wavfile\n",
    "import os\n",
    "\n",
    "# Parameters\n",
    "ind = 57\n",
    "H5FILENAME = f'/media/xian/Data/dataset/Bekaert/h5files/{ind}.h5'\n",
    "isDataAugOn = True\n",
    "\n",
    "OUTPUT_FOLDER = f'test_{ind}'\n",
    "if not os.path.exists(OUTPUT_FOLDER):\n",
    "    os.makedirs(OUTPUT_FOLDER)\n",
    "FILENAME = 'enhanced_audio.wav'\n",
    "FILENAME1 = 'enhanced_audio_left_mic.wav'\n",
    "FILENAME2 = 'enhanced_audio_right_mic.wav'\n",
    "dir_path = '/home/xian/Documents/mvdr_beamformer'\n",
    "OUTPUT_PATH = os.path.join(dir_path, OUTPUT_FOLDER)\n",
    "OUTPUT_FILENAME = os.path.join(OUTPUT_PATH, FILENAME)\n",
    "OUTPUT_FILENAME1 = os.path.join(OUTPUT_PATH, FILENAME1)\n",
    "OUTPUT_FILENAME2 = os.path.join(OUTPUT_PATH, FILENAME2)\n",
    "\n",
    "mg = MicGeom(from_file='array_9.xml')\n",
    "number_of_mic = mg.mpos.shape[1]\n",
    "MIC_POS = []\n",
    "for i in np.arange(number_of_mic):\n",
    "    MIC_POS.append(mg.mpos[:,int(i)])\n",
    "\n",
    "LOOK_POS = [0, 2, 0.5]\n",
    "SAMPLING_RATE = 51200\n",
    "FFT_LENGTH = 8192\n",
    "FFT_SHIFT = 4096\n",
    "SOUND_SPEED = 343"
   ]
  },
  {
   "cell_type": "code",
   "execution_count": null,
   "metadata": {},
   "outputs": [],
   "source": [
    "if not isDataAugOn:\n",
    "# run the block below for sine test\n",
    "    H5FILENAME = 'mix_sine.h5'\n",
    "    H5FILENAME2 = 'noise_sine.h5'\n",
    "    multi_signal = utils.get_data_from_h5(H5FILENAME, skip_last_channel=False)\n",
    "    noise_signal = utils.get_data_from_h5(H5FILENAME2, skip_last_channel=False)\n",
    "\n",
    "else:\n",
    "# Use the noise source as the input for the noise covariance matrix\n",
    "    from acoular import SineGenerator, PointSource, Mixer, WriteH5\n",
    "\n",
    "    wav_temp = 'noise_temp.wav'\n",
    "    multi_signal = utils.get_data_from_h5(H5FILENAME, skip_last_channel=True)\n",
    "    wavfile.write(wav_temp, SAMPLING_RATE, multi_signal[:,1].astype(np.float32))\n",
    "\n",
    "    class FileGenerator( SineGenerator ):\n",
    "        def signal(self):\n",
    "            filepath = wav_temp\n",
    "            _, signal = wavfile.read(filepath)\n",
    "            return signal[:self.numsamples]\n",
    "\n",
    "    # set up the parameters\n",
    "    duration = 5\n",
    "    nsamples = duration*SAMPLING_RATE\n",
    "    H5FILENAME2 = 'noise_temp.h5'\n",
    "\n",
    "    n1 = FileGenerator(sample_freq=SAMPLING_RATE, numsamples=nsamples, freq=2000)\n",
    "\n",
    "    p1 = PointSource( signal=n1, mics=mg,  loc=(4,2,0.5) ) # noise\n",
    "\n",
    "    pa = Mixer( source=p1 )\n",
    "    wh5 = WriteH5( source=pa, name=H5FILENAME2 )\n",
    "    wh5.save()\n",
    "\n",
    "    noise_signal = utils.get_data_from_h5(H5FILENAME2, skip_last_channel=False)"
   ]
  },
  {
   "cell_type": "markdown",
   "metadata": {},
   "source": [
    "Run MVDR"
   ]
  },
  {
   "cell_type": "code",
   "execution_count": null,
   "metadata": {},
   "outputs": [],
   "source": [
    "mvdr_beamformer = beamformer_MVDR(MIC_POS, sampling_rate=SAMPLING_RATE, fft_length=FFT_LENGTH, fft_shift=FFT_SHIFT, sound_speed=SOUND_SPEED)\n",
    "\n",
    "steering_vector = mvdr_beamformer.get_steering_vector_near_field(LOOK_POS)\n",
    "\n",
    "spatial_correlation_matrix = mvdr_beamformer.get_spatial_correlation_matrix(noise_signal) # noise covariance matrix\n",
    "\n",
    "beamformer = mvdr_beamformer.get_mvdr_beamformer(steering_vector, spatial_correlation_matrix)\n",
    "\n",
    "complex_spectrum = utils.get_spectrogram(multi_signal, FFT_LENGTH, FFT_SHIFT, FFT_LENGTH) # no overlap, no window, for ifft\n",
    "\n",
    "enhanced_spectrum = mvdr_beamformer.apply_beamformer(beamformer, complex_spectrum)"
   ]
  },
  {
   "cell_type": "markdown",
   "metadata": {},
   "source": [
    "Generate filter surface"
   ]
  },
  {
   "cell_type": "code",
   "execution_count": null,
   "metadata": {},
   "outputs": [],
   "source": [
    "%matplotlib widget\n",
    "from acoular import RectGrid\n",
    "import matplotlib.pyplot as plt\n",
    "\n",
    "\"\"\"\n",
    "define grid\n",
    "\"\"\"\n",
    "rg = RectGrid( x_min=-0.2, x_max=4,\n",
    "                        y_min=-0.2, y_max=4,\n",
    "                        z=1, increment=0.05 )\n",
    "\n",
    "grid_points = int(np.sqrt(rg.gpos.shape[1]))\n",
    "\n",
    "frequency = 2000\n",
    "\n",
    "filter = mvdr_beamformer.get_filter(rg, beamformer, frequency)\n",
    "\n",
    "\"\"\"\n",
    "plot beamformer\n",
    "\"\"\"\n",
    "fig = plt.figure()\n",
    "ax3 = plt.axes(projection='3d')\n",
    "\n",
    "X_g = rg.gpos[0,:].reshape(grid_points,grid_points)\n",
    "Y_g = rg.gpos[1,:].reshape(grid_points,grid_points)\n",
    "Z_g = 20 * np.log10(filter.reshape(grid_points,grid_points))\n",
    "# Z_g = filter.reshape(grid_points,grid_points)\n",
    "\n",
    "# ax3.scatter(noise_coord[0], noise_coord[1], np.min(Z_g), s=40, c='r', marker='x')\n",
    "ax3.scatter(LOOK_POS[0], LOOK_POS[1], np.min(Z_g), s=40, c='g', marker='o')\n",
    "\n",
    "ax3.set_xlabel('$X (m)$')\n",
    "ax3.set_ylabel('$Y (m)$')\n",
    "ax3.set_zlabel('$Gain (dB)$')\n",
    "\n",
    "ax3.plot_surface(X_g,Y_g,Z_g,cmap='rainbow')\n",
    "#ax3.contour(X,Y,Z, zdim='z',offset=-2，cmap='rainbow)   #等高线图，要设置offset，为Z的最小值\n",
    "plt.show()"
   ]
  },
  {
   "cell_type": "markdown",
   "metadata": {},
   "source": [
    "Save wave files"
   ]
  },
  {
   "cell_type": "code",
   "execution_count": null,
   "metadata": {},
   "outputs": [],
   "source": [
    "enhanced_audio = utils.spec2wav(enhanced_spectrum, SAMPLING_RATE, FFT_LENGTH, FFT_LENGTH, FFT_SHIFT)\n",
    "\n",
    "enhanced_audio = enhanced_audio / np.max(np.abs(enhanced_audio)) * 0.7\n",
    "\n",
    "wavfile.write(OUTPUT_FILENAME, SAMPLING_RATE, enhanced_audio.astype(np.float32))\n",
    "wavfile.write(OUTPUT_FILENAME1, SAMPLING_RATE, multi_signal[:,7].astype(np.float32))\n",
    "wavfile.write(OUTPUT_FILENAME2, SAMPLING_RATE, multi_signal[:,1].astype(np.float32))"
   ]
  }
 ],
 "metadata": {
  "interpreter": {
   "hash": "e6080b32085328570fbcd4c99d7c7475759b32bcca82372dd38385fb40c08347"
  },
  "kernelspec": {
   "display_name": "Python 3.8.11 ('beam38')",
   "language": "python",
   "name": "python3"
  },
  "language_info": {
   "codemirror_mode": {
    "name": "ipython",
    "version": 3
   },
   "file_extension": ".py",
   "mimetype": "text/x-python",
   "name": "python",
   "nbconvert_exporter": "python",
   "pygments_lexer": "ipython3",
   "version": "3.8.11"
  },
  "orig_nbformat": 4
 },
 "nbformat": 4,
 "nbformat_minor": 2
}
