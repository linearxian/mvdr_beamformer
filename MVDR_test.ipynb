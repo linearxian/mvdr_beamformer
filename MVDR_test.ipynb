{
 "cells": [
  {
   "cell_type": "code",
   "execution_count": null,
   "metadata": {},
   "outputs": [],
   "source": [
    "from Beamformer_MVDR import beamformer_MVDR\n",
    "import utils\n",
    "from acoular import MicGeom\n",
    "import numpy as np\n",
    "\n",
    "# Parameters\n",
    "H5FILENAME = '/media/xian/Data/dataset/Bekaert/h5files/42.h5'\n",
    "OUTPUT_FILENAME = 'enhanced_audio.wav'\n",
    "\n",
    "mg = MicGeom(from_file='array_9.xml')\n",
    "number_of_mic = mg.mpos.shape[1]\n",
    "MIC_POS = []\n",
    "for i in np.arange(number_of_mic):\n",
    "    MIC_POS.append(mg.mpos[:,int(i)])\n",
    "\n",
    "LOOK_POS = [4, 2, 0.5]\n",
    "SAMPLING_RATE = 51200\n",
    "FFT_LENGTH = 512\n",
    "FFT_SHIFT = 256\n",
    "SOUND_SPEED = 343"
   ]
  },
  {
   "cell_type": "code",
   "execution_count": null,
   "metadata": {},
   "outputs": [],
   "source": [
    "multi_signal = utils.get_data_from_h5(H5FILENAME, skip_last_channel=True)\n",
    "\n",
    "mvdr_beamformer = beamformer_MVDR(MIC_POS, sampling_rate=SAMPLING_RATE, fft_length=FFT_LENGTH, fft_shift=FFT_SHIFT, sound_speed=SOUND_SPEED)\n",
    "\n",
    "steering_vector = mvdr_beamformer.get_steering_vector_near_field(LOOK_POS)\n",
    "\n",
    "spatial_correlation_matrix = mvdr_beamformer.get_spatial_correlation_matrix(multi_signal)\n",
    "\n",
    "beamformer = mvdr_beamformer.get_mvdr_beamformer(steering_vector, spatial_correlation_matrix)\n",
    "\n",
    "complex_spectrum = utils.get_spectrogram(multi_signal, FFT_LENGTH, FFT_LENGTH, FFT_LENGTH) # no overlap, no window, for ifft\n",
    "\n",
    "enhanced_spectrum = mvdr_beamformer.apply_beamformer(beamformer, complex_spectrum)"
   ]
  },
  {
   "cell_type": "code",
   "execution_count": null,
   "metadata": {},
   "outputs": [],
   "source": [
    "from scipy.io.wavfile import write\n",
    "\n",
    "enhanced_audio = utils.spec2wav(enhanced_spectrum, SAMPLING_RATE, FFT_LENGTH, FFT_LENGTH, FFT_LENGTH)\n",
    "\n",
    "enhanced_audio = enhanced_audio / np.max(np.abs(enhanced_audio)) * 0.7\n",
    "\n",
    "write(OUTPUT_FILENAME, SAMPLING_RATE, enhanced_audio.astype(np.float32))"
   ]
  }
 ],
 "metadata": {
  "interpreter": {
   "hash": "e6080b32085328570fbcd4c99d7c7475759b32bcca82372dd38385fb40c08347"
  },
  "kernelspec": {
   "display_name": "Python 3.8.11 ('beam38')",
   "language": "python",
   "name": "python3"
  },
  "language_info": {
   "codemirror_mode": {
    "name": "ipython",
    "version": 3
   },
   "file_extension": ".py",
   "mimetype": "text/x-python",
   "name": "python",
   "nbconvert_exporter": "python",
   "pygments_lexer": "ipython3",
   "version": "3.8.11"
  },
  "orig_nbformat": 4
 },
 "nbformat": 4,
 "nbformat_minor": 2
}
