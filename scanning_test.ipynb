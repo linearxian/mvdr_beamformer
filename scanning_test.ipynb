{
 "cells": [
  {
   "cell_type": "code",
   "execution_count": 6,
   "metadata": {},
   "outputs": [],
   "source": [
    "from Beamformer_MVDR import beamformer_MVDR\n",
    "import utils\n",
    "from acoular import MicGeom\n",
    "import numpy as np\n",
    "import os\n",
    "from scipy import signal, stats\n",
    "from pylab import axis, imshow, colorbar, show, title, savefig\n",
    "\n",
    "# Parameters\n",
    "test_name = \"scan\"\n",
    "MIX_FILENAME = 'mix_mod.h5'\n",
    "SIG_FILENAME = 'sig_mod.h5'\n",
    "IAN_FILENAME = 'noise_mod.h5'\n",
    "dir_path = './data'\n",
    "MIX_FILENAME = os.path.join(dir_path, MIX_FILENAME)\n",
    "SIG_FILENAME = os.path.join(dir_path, SIG_FILENAME)\n",
    "IAN_FILENAME = os.path.join(dir_path, IAN_FILENAME)\n",
    "INCREMENT = 0.1\n",
    "\n",
    "OUTPUT_FOLDER = f'test_{test_name}'\n",
    "if not os.path.exists(OUTPUT_FOLDER):\n",
    "    os.makedirs(OUTPUT_FOLDER)\n",
    "FILENAME = 'ideal.wav'\n",
    "FILENAME1 = 'recon.wav'\n",
    "FILENAME2 = 'right_mic.wav'\n",
    "FILENAME3 = 'left_mic.wav'\n",
    "FILENAME4 = 'smi.wav'\n",
    "dir_path = '/home/xian/Documents/mvdr_beamformer/data'\n",
    "OUTPUT_PATH = os.path.join(dir_path, OUTPUT_FOLDER)\n",
    "OUTPUT_FILENAME = os.path.join(OUTPUT_PATH, FILENAME)\n",
    "OUTPUT_FILENAME1 = os.path.join(OUTPUT_PATH, FILENAME1)\n",
    "OUTPUT_FILENAME2 = os.path.join(OUTPUT_PATH, FILENAME2)\n",
    "OUTPUT_FILENAME3 = os.path.join(OUTPUT_PATH, FILENAME3)\n",
    "OUTPUT_FILENAME4 = os.path.join(OUTPUT_PATH, FILENAME4)\n",
    "\n",
    "mg = MicGeom(from_file='./array_geom/array_9.xml')\n",
    "number_of_mic = mg.mpos.shape[1]\n",
    "MIC_POS = []\n",
    "for i in np.arange(number_of_mic):\n",
    "    MIC_POS.append(mg.mpos[:,int(i)])\n",
    "\n",
    "LOOK_POS = [0,2,0.5]\n",
    "NOISE_POS = [4,2,0.5]\n",
    "NOISE_CH = 1\n",
    "SIG_CH = 7\n",
    "SAMPLING_RATE = 51200\n",
    "FFT_LENGTH = 8192\n",
    "FFT_SHIFT = 2048\n",
    "SOUND_SPEED = 343\n",
    "\n",
    "mvdr_beamformer = beamformer_MVDR(MIC_POS, sampling_rate=SAMPLING_RATE, fft_length=FFT_LENGTH, fft_shift=FFT_SHIFT, sound_speed=SOUND_SPEED)"
   ]
  },
  {
   "cell_type": "code",
   "execution_count": 7,
   "metadata": {},
   "outputs": [],
   "source": [
    "### noise spectrogram multiplied with steering vector pointing to its position\n",
    "multi_signal = utils.get_data_from_h5(MIX_FILENAME, skip_last_channel=False)\n",
    "noise_signal = mvdr_beamformer.get_augmented_noise(NOISE_POS, multi_signal, NOISE_CH)\n",
    "\n",
    "spatial_correlation_matrix = mvdr_beamformer.get_spatial_correlation_matrix(noise_signal) # noise covariance matrix\n",
    "\n",
    "steering_vector = mvdr_beamformer.get_steering_vector_near_field(LOOK_POS)\n",
    "\n",
    "beamformer = mvdr_beamformer.get_mvdr_beamformer(steering_vector, spatial_correlation_matrix)\n",
    "\n",
    "complex_spectrum = utils.get_spectrogram(multi_signal, FFT_LENGTH, FFT_SHIFT, FFT_LENGTH)\n",
    "\n",
    "enhanced_spectrum = mvdr_beamformer.apply_beamformer(beamformer, complex_spectrum)"
   ]
  },
  {
   "cell_type": "markdown",
   "metadata": {},
   "source": [
    "Health indicator for 850 modulation frequency"
   ]
  },
  {
   "cell_type": "code",
   "execution_count": 9,
   "metadata": {},
   "outputs": [
    {
     "data": {
      "image/png": "[encoded data removed]",
      "text/plain": [
       "<Figure size 432x288 with 1 Axes>"
      ]
     },
     "metadata": {
      "needs_background": "light"
     },
     "output_type": "display_data"
    }
   ],
   "source": [
    "%matplotlib inline\n",
    "from scipy import signal, stats\n",
    "import matplotlib.pyplot as plt\n",
    "\n",
    "enhanced_audio = utils.spec2wav(enhanced_spectrum, SAMPLING_RATE, FFT_LENGTH, FFT_LENGTH, FFT_SHIFT)\n",
    "data = enhanced_audio / np.max(np.abs(enhanced_audio)) * 0.7\n",
    "# sampling_rate, data = wavfile.read(\"modulated_signal_noise.wav\")\n",
    "\n",
    "t = np.arange(len(data)) / SAMPLING_RATE\n",
    "f = np.linspace(0, SAMPLING_RATE, len(data))\n",
    "\n",
    "analytic_signal = signal.hilbert(data)\n",
    "amplitude_envelope = np.abs(analytic_signal)\n",
    "\n",
    "ses = np.abs(np.fft.fft(amplitude_envelope) / len(data))\n",
    "ses = ses[:int(len(data)/50)]\n",
    "freqs = f[:int(len(data)/50)]\n",
    "\n",
    "mod_freq = 850\n",
    "ind_mod = (np.abs(freqs - mod_freq)).argmin()\n",
    "noise_freq = 400\n",
    "ind_mod_noise = (np.abs(freqs - noise_freq)).argmin()\n",
    "\n",
    "thres1 = signal.medfilt(ses, 255)\n",
    "thres2 = stats.median_abs_deviation(ses)\n",
    "thres3 = thres1 + 6 * thres2\n",
    "\n",
    "Indicator = round(ses[ind_mod] / thres3.mean(), 2)\n",
    "\n",
    "plt.title(f'Indicator: {Indicator}')\n",
    "plt.plot(freqs, ses)\n",
    "plt.plot(freqs, thres3)\n",
    "plt.ylim(0,0.07*ses[0])\n",
    "plt.plot(freqs[ind_mod], ses[ind_mod], 'ro')\n",
    "plt.plot(freqs[ind_mod_noise], ses[ind_mod_noise], 'go')\n",
    "savefig(f'./results/result_{test_name}_indicator.eps', format='eps')\n",
    "plt.show()"
   ]
  },
  {
   "cell_type": "markdown",
   "metadata": {},
   "source": [
    "3D plot"
   ]
  },
  {
   "cell_type": "code",
   "execution_count": 64,
   "metadata": {},
   "outputs": [],
   "source": [
    "# %matplotlib widget\n",
    "# from acoular import RectGrid\n",
    "# import matplotlib.pyplot as plt\n",
    "# import multiprocessing\n",
    "# from joblib import Parallel, delayed\n",
    "# from tqdm import tqdm\n",
    "\n",
    "# def getIndicator(look_pos):\n",
    "#     steering_vector = mvdr_beamformer.get_steering_vector_near_field(look_pos)\n",
    "#     beamformer = mvdr_beamformer.get_mvdr_beamformer(steering_vector, spatial_correlation_matrix)\n",
    "#     enhanced_spectrum = mvdr_beamformer.apply_beamformer(beamformer, complex_spectrum)\n",
    "#     enhanced_audio = utils.spec2wav(enhanced_spectrum, SAMPLING_RATE, FFT_LENGTH, FFT_LENGTH, FFT_SHIFT)\n",
    "#     data = enhanced_audio / np.max(np.abs(enhanced_audio)) * 0.7\n",
    "#     # t = np.arange(len(data)) / SAMPLING_RATE\n",
    "#     f = np.linspace(0, SAMPLING_RATE, len(data))\n",
    "#     analytic_signal = signal.hilbert(data)\n",
    "#     amplitude_envelope = np.abs(analytic_signal)\n",
    "#     ses = np.abs(np.fft.fft(amplitude_envelope) / len(data))\n",
    "#     ses = ses[:int(len(data)/50)]\n",
    "#     freqs = f[:int(len(data)/50)]\n",
    "#     mod_freq = 850\n",
    "#     ind_mod = (np.abs(freqs - mod_freq)).argmin()\n",
    "#     # noise_freq = 400\n",
    "#     # ind_mod_noise = (np.abs(freqs - noise_freq)).argmin()\n",
    "#     thres1 = signal.medfilt(ses, 255)\n",
    "#     thres2 = stats.median_abs_deviation(ses)\n",
    "#     thres3 = thres1 + 6 * thres2\n",
    "#     indi_temp = round(ses[ind_mod] / thres3.mean(), 2)\n",
    "#     result = [look_pos[0], look_pos[1], indi_temp]\n",
    "#     return indi_temp\n",
    "\n",
    "# \"\"\"\n",
    "# define grid\n",
    "# \"\"\"\n",
    "# rg = RectGrid( x_min=-0.2, x_max=4,\n",
    "#                         y_min=-0.2, y_max=4,\n",
    "#                         z=0.5, increment=1 )\n",
    "\n",
    "# grid_points = int(np.sqrt(rg.gpos.shape[1]))\n",
    "\n",
    "# myList = [rg.gpos[:,ind] for ind in np.arange(rg.gpos.shape[1])]\n",
    "\n",
    "# num_cores = multiprocessing.cpu_count()\n",
    "# inputs = tqdm(myList)\n",
    "\n",
    "# processed_list = Parallel(n_jobs=num_cores)(delayed(getIndicator)(i) for i in inputs)\n",
    "\n",
    "# results = np.array(processed_list)\n",
    "\n",
    "# \"\"\"\n",
    "# plot beamformer\n",
    "# \"\"\"\n",
    "# fig = plt.figure()\n",
    "# ax3 = plt.axes(projection='3d')\n",
    "\n",
    "# X_g = rg.gpos[0,:].reshape(grid_points,grid_points)\n",
    "# Y_g = rg.gpos[1,:].reshape(grid_points,grid_points)\n",
    "# Z_g = results.reshape(grid_points,grid_points)\n",
    "\n",
    "# # ax3.scatter(noise_coord[0], noise_coord[1], np.min(Z_g), s=40, c='r', marker='x')\n",
    "# # ax3.scatter(LOOK_POS[0], LOOK_POS[1], np.min(Z_g), s=40, c='g', marker='o')\n",
    "\n",
    "# ax3.set_xlabel('$X (m)$')\n",
    "# ax3.set_ylabel('$Y (m)$')\n",
    "# ax3.set_zlabel('$Indicator$')\n",
    "\n",
    "# ax3.plot_surface(X_g,Y_g,Z_g,cmap='rainbow')\n",
    "# # ax3.contour(X_g,Y_g,Z_g, zdim='z',offset=np.min(Z_g), cmap='rainbow')\n",
    "\n",
    "# plt.show()"
   ]
  },
  {
   "cell_type": "markdown",
   "metadata": {},
   "source": [
    "2D plot: source location mismatch"
   ]
  },
  {
   "cell_type": "code",
   "execution_count": 65,
   "metadata": {},
   "outputs": [
    {
     "name": "stderr",
     "output_type": "stream",
     "text": [
      "100%|██████████| 1849/1849 [04:07<00:00,  7.46it/s]\n"
     ]
    },
    {
     "data": {
      "image/png": "[encoded data removed]",
      "text/plain": [
       "<Figure size 432x288 with 2 Axes>"
      ]
     },
     "metadata": {
      "needs_background": "light"
     },
     "output_type": "display_data"
    }
   ],
   "source": [
    "%matplotlib inline\n",
    "from acoular import RectGrid\n",
    "import multiprocessing\n",
    "from joblib import Parallel, delayed\n",
    "from tqdm import tqdm\n",
    "\n",
    "\n",
    "mvdr_beamformer = beamformer_MVDR(MIC_POS, sampling_rate=SAMPLING_RATE, fft_length=FFT_LENGTH, fft_shift=FFT_SHIFT, sound_speed=SOUND_SPEED)\n",
    "multi_signal = utils.get_data_from_h5(MIX_FILENAME, skip_last_channel=False)\n",
    "noise_signal = mvdr_beamformer.get_augmented_noise(NOISE_POS, multi_signal, NOISE_CH)\n",
    "spatial_correlation_matrix = mvdr_beamformer.get_spatial_correlation_matrix(noise_signal) # noise covariance matrix\n",
    "\n",
    "def getIndicator(look_pos):\n",
    "    steering_vector = mvdr_beamformer.get_steering_vector_near_field(look_pos)\n",
    "    beamformer = mvdr_beamformer.get_mvdr_beamformer(steering_vector, spatial_correlation_matrix)\n",
    "    enhanced_spectrum = mvdr_beamformer.apply_beamformer(beamformer, complex_spectrum)\n",
    "    enhanced_audio = utils.spec2wav(enhanced_spectrum, SAMPLING_RATE, FFT_LENGTH, FFT_LENGTH, FFT_SHIFT)\n",
    "    data = enhanced_audio / np.max(np.abs(enhanced_audio)) * 0.7\n",
    "    # t = np.arange(len(data)) / SAMPLING_RATE\n",
    "    f = np.linspace(0, SAMPLING_RATE, len(data))\n",
    "    analytic_signal = signal.hilbert(data)\n",
    "    amplitude_envelope = np.abs(analytic_signal)\n",
    "    ses = np.abs(np.fft.fft(amplitude_envelope) / len(data))\n",
    "    ses = ses[:int(len(data)/50)]\n",
    "    freqs = f[:int(len(data)/50)]\n",
    "    mod_freq = 850\n",
    "    ind_mod = (np.abs(freqs - mod_freq)).argmin()\n",
    "    # noise_freq = 400\n",
    "    # ind_mod_noise = (np.abs(freqs - noise_freq)).argmin()\n",
    "    thres1 = signal.medfilt(ses, 255)\n",
    "    thres2 = stats.median_abs_deviation(ses)\n",
    "    thres3 = thres1 + 6 * thres2\n",
    "    indi_temp = round(ses[ind_mod] / thres3.mean(), 2)\n",
    "    # result = [look_pos[0], look_pos[1], indi_temp]\n",
    "    return indi_temp\n",
    "\n",
    "\"\"\"\n",
    "define grid\n",
    "\"\"\"\n",
    "rg = RectGrid( x_min=-0.2, x_max=4,\n",
    "                        y_min=-0.2, y_max=4,\n",
    "                        z=0.5, increment=INCREMENT )\n",
    "\n",
    "grid_points = int(np.sqrt(rg.gpos.shape[1]))\n",
    "\n",
    "myList = [rg.gpos[:,ind] for ind in np.arange(rg.gpos.shape[1])]\n",
    "\n",
    "num_cores = multiprocessing.cpu_count()\n",
    "inputs = tqdm(myList)\n",
    "\n",
    "processed_list = Parallel(n_jobs=num_cores)(delayed(getIndicator)(i) for i in inputs)\n",
    "\n",
    "results = np.array(processed_list)\n",
    "\n",
    "\"\"\"\n",
    "plot beamformer\n",
    "\"\"\"\n",
    "\n",
    "Z_g = results.reshape(grid_points,grid_points)\n",
    "# imshow( Z_g.T, origin='lower', extent=rg.extend(), interpolation='bicubic')\n",
    "imshow( Z_g.T, origin='lower', extent=rg.extend())\n",
    "colorbar()\n",
    "axis('equal')\n",
    "title('source location mismatch')\n",
    "savefig(f'./results/result_{test_name}_source.eps', format='eps')\n",
    "show()"
   ]
  },
  {
   "cell_type": "markdown",
   "metadata": {},
   "source": [
    "2D plot: interference location mismatch"
   ]
  },
  {
   "cell_type": "code",
   "execution_count": 66,
   "metadata": {},
   "outputs": [
    {
     "name": "stderr",
     "output_type": "stream",
     "text": [
      "100%|██████████| 1849/1849 [09:05<00:00,  3.39it/s]\n"
     ]
    },
    {
     "data": {
      "image/png": "[encoded data removed]",
      "text/plain": [
       "<Figure size 432x288 with 2 Axes>"
      ]
     },
     "metadata": {
      "needs_background": "light"
     },
     "output_type": "display_data"
    }
   ],
   "source": [
    "%matplotlib inline\n",
    "from acoular import RectGrid\n",
    "import multiprocessing\n",
    "from joblib import Parallel, delayed\n",
    "from tqdm import tqdm\n",
    "\n",
    "\n",
    "mvdr_beamformer = beamformer_MVDR(MIC_POS, sampling_rate=SAMPLING_RATE, fft_length=FFT_LENGTH, fft_shift=FFT_SHIFT, sound_speed=SOUND_SPEED)\n",
    "multi_signal = utils.get_data_from_h5(MIX_FILENAME, skip_last_channel=False)\n",
    "steering_vector = mvdr_beamformer.get_steering_vector_near_field(LOOK_POS)\n",
    "\n",
    "def getIndicator2(noise_pos):\n",
    "    noise_signal = mvdr_beamformer.get_augmented_noise(noise_pos, multi_signal, NOISE_CH)\n",
    "    spatial_correlation_matrix = mvdr_beamformer.get_spatial_correlation_matrix(noise_signal) # noise covariance matrix\n",
    "    beamformer = mvdr_beamformer.get_mvdr_beamformer(steering_vector, spatial_correlation_matrix)\n",
    "    enhanced_spectrum = mvdr_beamformer.apply_beamformer(beamformer, complex_spectrum)\n",
    "    enhanced_audio = utils.spec2wav(enhanced_spectrum, SAMPLING_RATE, FFT_LENGTH, FFT_LENGTH, FFT_SHIFT)\n",
    "    data = enhanced_audio / np.max(np.abs(enhanced_audio)) * 0.7\n",
    "    # t = np.arange(len(data)) / SAMPLING_RATE\n",
    "    f = np.linspace(0, SAMPLING_RATE, len(data))\n",
    "    analytic_signal = signal.hilbert(data)\n",
    "    amplitude_envelope = np.abs(analytic_signal)\n",
    "    ses = np.abs(np.fft.fft(amplitude_envelope) / len(data))\n",
    "    ses = ses[:int(len(data)/50)]\n",
    "    freqs = f[:int(len(data)/50)]\n",
    "    mod_freq = 850\n",
    "    ind_mod = (np.abs(freqs - mod_freq)).argmin()\n",
    "    # noise_freq = 400\n",
    "    # ind_mod_noise = (np.abs(freqs - noise_freq)).argmin()\n",
    "    thres1 = signal.medfilt(ses, 255)\n",
    "    thres2 = stats.median_abs_deviation(ses)\n",
    "    thres3 = thres1 + 6 * thres2\n",
    "    indi_temp = round(ses[ind_mod] / thres3.mean(), 2)\n",
    "    # result = [look_pos[0], look_pos[1], indi_temp]\n",
    "    return indi_temp\n",
    "\n",
    "\"\"\"\n",
    "define grid\n",
    "\"\"\"\n",
    "rg = RectGrid( x_min=-0.2, x_max=4,\n",
    "                        y_min=-0.2, y_max=4,\n",
    "                        z=0.5, increment=INCREMENT )\n",
    "\n",
    "grid_points = int(np.sqrt(rg.gpos.shape[1]))\n",
    "\n",
    "myList = [rg.gpos[:,ind] for ind in np.arange(rg.gpos.shape[1])]\n",
    "\n",
    "num_cores = multiprocessing.cpu_count()\n",
    "inputs = tqdm(myList)\n",
    "\n",
    "processed_list = Parallel(n_jobs=num_cores)(delayed(getIndicator2)(i) for i in inputs)\n",
    "\n",
    "results = np.array(processed_list)\n",
    "\n",
    "\"\"\"\n",
    "plot beamformer\n",
    "\"\"\"\n",
    "\n",
    "Z_g = results.reshape(grid_points,grid_points)\n",
    "# imshow( Z_g.T, origin='lower', extent=rg.extend(), interpolation='bicubic')\n",
    "imshow( Z_g.T, origin='lower', extent=rg.extend())\n",
    "colorbar()\n",
    "axis('equal')\n",
    "title('interference location mismatch')\n",
    "savefig(f'./results/result_{test_name}_interference.eps', format='eps')\n",
    "show()"
   ]
  },
  {
   "cell_type": "markdown",
   "metadata": {},
   "source": [
    "Noise mismatch: fine search"
   ]
  },
  {
   "cell_type": "code",
   "execution_count": 67,
   "metadata": {},
   "outputs": [
    {
     "name": "stderr",
     "output_type": "stream",
     "text": [
      "100%|██████████| 2601/2601 [12:44<00:00,  3.40it/s]\n"
     ]
    },
    {
     "data": {
      "image/png": "[encoded data removed]",
      "text/plain": [
       "<Figure size 432x288 with 2 Axes>"
      ]
     },
     "metadata": {
      "needs_background": "light"
     },
     "output_type": "display_data"
    }
   ],
   "source": [
    "%matplotlib inline\n",
    "from acoular import RectGrid\n",
    "import multiprocessing\n",
    "from joblib import Parallel, delayed\n",
    "from tqdm import tqdm\n",
    "\n",
    "\n",
    "mvdr_beamformer = beamformer_MVDR(MIC_POS, sampling_rate=SAMPLING_RATE, fft_length=FFT_LENGTH, fft_shift=FFT_SHIFT, sound_speed=SOUND_SPEED)\n",
    "multi_signal = utils.get_data_from_h5(MIX_FILENAME, skip_last_channel=False)\n",
    "steering_vector = mvdr_beamformer.get_steering_vector_near_field(LOOK_POS)\n",
    "\n",
    "def getIndicator2(noise_pos):\n",
    "    noise_signal = mvdr_beamformer.get_augmented_noise(noise_pos, multi_signal, NOISE_CH)\n",
    "    spatial_correlation_matrix = mvdr_beamformer.get_spatial_correlation_matrix(noise_signal) # noise covariance matrix\n",
    "    beamformer = mvdr_beamformer.get_mvdr_beamformer(steering_vector, spatial_correlation_matrix)\n",
    "    enhanced_spectrum = mvdr_beamformer.apply_beamformer(beamformer, complex_spectrum)\n",
    "    enhanced_audio = utils.spec2wav(enhanced_spectrum, SAMPLING_RATE, FFT_LENGTH, FFT_LENGTH, FFT_SHIFT)\n",
    "    data = enhanced_audio / np.max(np.abs(enhanced_audio)) * 0.7\n",
    "    # t = np.arange(len(data)) / SAMPLING_RATE\n",
    "    f = np.linspace(0, SAMPLING_RATE, len(data))\n",
    "    analytic_signal = signal.hilbert(data)\n",
    "    amplitude_envelope = np.abs(analytic_signal)\n",
    "    ses = np.abs(np.fft.fft(amplitude_envelope) / len(data))\n",
    "    ses = ses[:int(len(data)/50)]\n",
    "    freqs = f[:int(len(data)/50)]\n",
    "    mod_freq = 850\n",
    "    ind_mod = (np.abs(freqs - mod_freq)).argmin()\n",
    "    # noise_freq = 400\n",
    "    # ind_mod_noise = (np.abs(freqs - noise_freq)).argmin()\n",
    "    thres1 = signal.medfilt(ses, 255)\n",
    "    thres2 = stats.median_abs_deviation(ses)\n",
    "    thres3 = thres1 + 6 * thres2\n",
    "    indi_temp = round(ses[ind_mod] / thres3.mean(), 2)\n",
    "    # result = [look_pos[0], look_pos[1], indi_temp]\n",
    "    return indi_temp\n",
    "\n",
    "\"\"\"\n",
    "define grid\n",
    "\"\"\"\n",
    "rg = RectGrid( x_min=3.5, x_max=4.5,\n",
    "                        y_min=1.5, y_max=2.5,\n",
    "                        z=0.5, increment=0.02 )\n",
    "\n",
    "grid_points = int(np.sqrt(rg.gpos.shape[1]))\n",
    "\n",
    "myList = [rg.gpos[:,ind] for ind in np.arange(rg.gpos.shape[1])]\n",
    "\n",
    "num_cores = multiprocessing.cpu_count()\n",
    "inputs = tqdm(myList)\n",
    "\n",
    "processed_list = Parallel(n_jobs=num_cores)(delayed(getIndicator2)(i) for i in inputs)\n",
    "\n",
    "results = np.array(processed_list)\n",
    "\n",
    "\"\"\"\n",
    "plot beamformer\n",
    "\"\"\"\n",
    "\n",
    "Z_g = results.reshape(grid_points,grid_points)\n",
    "# imshow( Z_g.T, origin='lower', extent=rg.extend(), interpolation='bicubic')\n",
    "imshow( Z_g.T, origin='lower', extent=rg.extend())\n",
    "colorbar()\n",
    "axis('equal')\n",
    "title('interference mismatch: fine search')\n",
    "savefig(f'./results/result_{test_name}_interference_fine_search.eps', format='eps')\n",
    "show()"
   ]
  },
  {
   "cell_type": "code",
   "execution_count": 3,
   "metadata": {},
   "outputs": [
    {
     "name": "stdout",
     "output_type": "stream",
     "text": [
      "[0.59 5.91 2.49 ... 1.39 1.86 3.23]\n"
     ]
    }
   ],
   "source": [
    "import numpy as np\n",
    "\n",
    "with open('result_increment_0.1.npy', 'rb') as f:\n",
    "    a = np.load(f)\n",
    "print(a)"
   ]
  }
 ],
 "metadata": {
  "interpreter": {
   "hash": "e6080b32085328570fbcd4c99d7c7475759b32bcca82372dd38385fb40c08347"
  },
  "kernelspec": {
   "display_name": "Python 3.8.11 ('beam38')",
   "language": "python",
   "name": "python3"
  },
  "language_info": {
   "codemirror_mode": {
    "name": "ipython",
    "version": 3
   },
   "file_extension": ".py",
   "mimetype": "text/x-python",
   "name": "python",
   "nbconvert_exporter": "python",
   "pygments_lexer": "ipython3",
   "version": "3.8.11"
  },
  "orig_nbformat": 4
 },
 "nbformat": 4,
 "nbformat_minor": 2
}
