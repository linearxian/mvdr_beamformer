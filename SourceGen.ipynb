{
 "cells": [
  {
   "cell_type": "code",
   "execution_count": 1,
   "metadata": {},
   "outputs": [],
   "source": [
    "#! /usr/bin/env python\n",
    "# -*- coding: utf-8 -*-\n",
    "\n",
    "from os import path\n",
    "from acoular import __file__ as bpath, MicGeom, WNoiseGenerator, PointSource,\\\n",
    " Mixer, WriteH5, TimeSamples, PowerSpectra, RectGrid, SteeringVector,\\\n",
    " BeamformerBase, BeamformerFunctional, BeamformerMusic, L_p, SineGenerator\n",
    "from pylab import figure, plot, axis, imshow, colorbar, show\n",
    "from scipy.io import wavfile\n",
    "\n",
    "wav_temp = 'modulated_signal.wav'\n",
    "wav_temp2 = 'modulated_signal_noise.wav'\n",
    "\n",
    "class FileGenerator( SineGenerator ):\n",
    "    def signal(self):\n",
    "        filepath = wav_temp\n",
    "        _, signal = wavfile.read(filepath)\n",
    "        return signal[:self.numsamples]\n",
    "\n",
    "class FileGenerator2( SineGenerator ):\n",
    "    def signal(self):\n",
    "        filepath = wav_temp2\n",
    "        _, signal = wavfile.read(filepath)\n",
    "        return signal[:self.numsamples]\n",
    "\n",
    "# set up the parameters\n",
    "sfreq = 51200\n",
    "duration = 1\n",
    "nsamples = duration*sfreq\n",
    "micgeofile = 'array_9.xml'\n",
    "h5savefile = 'mix_mod.h5'\n",
    "\n",
    "# generate test data, in real life this would come from an array measurement\n",
    "mg = MicGeom( from_file=micgeofile )\n",
    "\n",
    "n1 = SineGenerator(sample_freq=sfreq, numsamples=nsamples, freq=2000)\n",
    "n2 = SineGenerator(sample_freq=sfreq, numsamples=nsamples, freq=4000)\n",
    "\n",
    "n3 = WNoiseGenerator( sample_freq=sfreq, numsamples=nsamples, seed=3, rms=1 )\n",
    "n4 = WNoiseGenerator( sample_freq=sfreq, numsamples=nsamples, seed=6, rms=0.7 )\n",
    "n5 = WNoiseGenerator( sample_freq=sfreq, numsamples=nsamples, seed=7, rms=1 )\n",
    "\n",
    "n6 = FileGenerator(sample_freq=sfreq, numsamples=nsamples, freq=2000)\n",
    "n7 = FileGenerator2(sample_freq=sfreq, numsamples=nsamples, freq=2000)\n",
    "\n",
    "p1 = PointSource( signal=n1, mics=mg,  loc=(2,2,0.5) ) # noise 2k hz at center\n",
    "p2 = PointSource( signal=n7, mics=mg,  loc=(4,2,0.5) ) # noise mod at right\n",
    "p3 = PointSource( signal=n6, mics=mg,  loc=(0,2,0.5) ) # signal mod at left\n",
    "p4 = PointSource( signal=n4, mics=mg,  loc=(4,4,0.5) ) # noise white at upper right\n",
    "p5 = PointSource( signal=n2, mics=mg,  loc=(0,2,0.5) ) # signal 4k hz at left\n",
    "p6 = PointSource( signal=n5, mics=mg,  loc=(1,2,0.5) ) # noise white at center left\n",
    "p7 = PointSource( signal=n3, mics=mg,  loc=(0,0,0.5) ) # noise white at lower left\n",
    "p8 = PointSource( signal=n1, mics=mg,  loc=(4,0,0.5) ) # noise 2k at lower right\n",
    "pa = Mixer( source=p2, sources=[p1, p4, p5, p6, p7, p8, p3] )\n",
    "wh5 = WriteH5( source=pa, name=h5savefile )\n",
    "wh5.save()"
   ]
  },
  {
   "cell_type": "code",
   "execution_count": null,
   "metadata": {},
   "outputs": [],
   "source": [
    "%matplotlib widget\n",
    "import matplotlib.pyplot as plt\n",
    "import numpy as np\n",
    "from acoular import MicGeom\n",
    "\n",
    "fig = plt.figure()\n",
    "ax3 = plt.axes(projection='3d')\n",
    "\n",
    "mg = MicGeom(from_file='array_9.xml')\n",
    "number_of_mic = mg.mpos.shape[1]\n",
    "MIC_POS = []\n",
    "for i in np.arange(number_of_mic):\n",
    "    ax3.scatter(mg.mpos[0,int(i)], mg.mpos[1,int(i)], mg.mpos[2,int(i)], s=40, c='b', marker='v')\n",
    "\n",
    "# ax3.scatter(2, 2, 0.5, s=40, c='r', marker='x')\n",
    "# ax3.scatter(4, 2, 0.5, s=40, c='r', marker='x')\n",
    "ax3.scatter(0, 2, 0.5, s=40, c='g', marker='o')\n",
    "# ax3.scatter(4, 4, 0.5, s=40, c='r', marker='8')\n",
    "ax3.scatter(4, 2, 0.5, s=40, c='r', marker='x')\n",
    "# ax3.scatter(1, 2, 0.5, s=40, c='r', marker='8')\n",
    "# ax3.scatter(0, 0, 0.5, s=40, c='r', marker='8')\n",
    "# ax3.scatter(4, 0, 0.5, s=40, c='r', marker='x')\n",
    "\n",
    "ax3.set_xlabel('$X (m)$')\n",
    "ax3.set_ylabel('$Y (m)$')\n",
    "ax3.set_zlabel('$Z (m)$')\n",
    "ax3.set_zlim(0, 1.8)\n",
    "\n",
    "#ax3.contour(X,Y,Z, zdim='z',offset=-2，cmap='rainbow)   #等高线图，要设置offset，为Z的最小值\n",
    "plt.show()"
   ]
  },
  {
   "cell_type": "code",
   "execution_count": 9,
   "metadata": {},
   "outputs": [
    {
     "data": {
      "text/plain": [
       "[<matplotlib.lines.Line2D at 0x7fa5d9d4d430>]"
      ]
     },
     "execution_count": 9,
     "metadata": {},
     "output_type": "execute_result"
    },
    {
     "data": {
      "image/png": "[encoded data removed]",
      "text/plain": [
       "<Figure size 432x288 with 1 Axes>"
      ]
     },
     "metadata": {
      "needs_background": "light"
     },
     "output_type": "display_data"
    }
   ],
   "source": [
    "%matplotlib inline\n",
    "import numpy as np\n",
    "import matplotlib.pyplot as plt\n",
    "from scipy import signal\n",
    "from scipy.io import wavfile\n",
    "\n",
    "A_c = float(0.6)\n",
    "f_c = float(6000)\n",
    "A_m = float(0.8)\n",
    "f_m = float(400)\n",
    "modulation_index = float(1)\n",
    "\n",
    "sampling_rate = 51200\n",
    "duration = 1\n",
    "t = np.linspace(0, duration, sampling_rate)\n",
    "\n",
    "carrier = A_c*np.cos(2*np.pi*f_c*t)\n",
    "modulator = A_m*np.cos(2*np.pi*f_m*t)\n",
    "product = A_c*(1+modulation_index*np.cos(2*np.pi*f_m*t))*np.cos(2*np.pi*f_c*t)\n",
    "\n",
    "OUTPUTNAME = 'modulated_signal_noise.wav'\n",
    "product = product / np.max(np.abs(product)) * 0.7\n",
    "wavfile.write(OUTPUTNAME, sampling_rate, product)\n",
    "\n",
    "t = np.arange(len(product)) / sampling_rate\n",
    "f = np.linspace(0, sampling_rate, len(product))\n",
    "\n",
    "analytic_signal = signal.hilbert(product)\n",
    "amplitude_envelope = np.abs(analytic_signal)\n",
    "\n",
    "ses = np.abs(np.fft.fft(amplitude_envelope) / len(product))\n",
    "ses = ses[:int(len(product)/50)]\n",
    "freqs = f[:int(len(product)/50)]\n",
    "\n",
    "plt.plot(freqs, ses)"
   ]
  },
  {
   "cell_type": "code",
   "execution_count": 20,
   "metadata": {},
   "outputs": [
    {
     "data": {
      "image/png": "[encoded data removed]",
      "text/plain": [
       "<Figure size 432x288 with 1 Axes>"
      ]
     },
     "metadata": {
      "needs_background": "light"
     },
     "output_type": "display_data"
    }
   ],
   "source": [
    "%matplotlib inline\n",
    "import matplotlib.pylab as plt\n",
    "from acoular import MicGeom\n",
    "\n",
    "mg = MicGeom(from_file='./array_geom/array_64_large.xml')\n",
    "plt.plot( mg.mpos[0], mg.mpos[1], 'o' )\n",
    "plt.axis( 'equal' );"
   ]
  },
  {
   "cell_type": "code",
   "execution_count": 19,
   "metadata": {},
   "outputs": [],
   "source": [
    "# import xml.dom.minidom\n",
    "# from numpy import array\n",
    "\n",
    "# doc = xml.dom.minidom.parse('./array_geom/array_64.xml')\n",
    "# factor = 20\n",
    "# for el in doc.getElementsByTagName('pos'):\n",
    "#     x_value = el.getAttribute('x')\n",
    "#     x_value_mod = round(float(x_value) * 20, 3)\n",
    "#     el.setAttribute('x', f'{x_value_mod}')\n",
    "    \n",
    "#     y_value = el.getAttribute('y')\n",
    "#     y_value_mod = round(float(y_value) * 20, 3)\n",
    "#     el.setAttribute('y', f'{y_value_mod}')\n",
    "\n",
    "#     el.setAttribute('z', f'{2}')\n",
    "# xml_file = doc.toxml()\n",
    "# f = open(\"myxmlfile.xml\", \"w\")\n",
    "# f.write(xml_file)\n",
    "# f.close()"
   ]
  }
 ],
 "metadata": {
  "interpreter": {
   "hash": "e6080b32085328570fbcd4c99d7c7475759b32bcca82372dd38385fb40c08347"
  },
  "kernelspec": {
   "display_name": "Python 3.8.11 64-bit ('beam38': conda)",
   "name": "python3"
  },
  "language_info": {
   "codemirror_mode": {
    "name": "ipython",
    "version": 3
   },
   "file_extension": ".py",
   "mimetype": "text/x-python",
   "name": "python",
   "nbconvert_exporter": "python",
   "pygments_lexer": "ipython3",
   "version": "3.8.11"
  },
  "orig_nbformat": 4
 },
 "nbformat": 4,
 "nbformat_minor": 2
}
